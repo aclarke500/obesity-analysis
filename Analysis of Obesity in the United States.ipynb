{
 "cells": [
  {
   "cell_type": "markdown",
   "id": "2a89f01a",
   "metadata": {},
   "source": [
    "# Understanding Obesity in the United States\n",
    "Although it is important to respect one another and treat people with kindness, it is understood in today's society that obesity is on the rise and that this is a problem. Obesity can increase ones risk of stroke, diabetes, and cancer. ([WHO](https://www.who.int/news-room/questions-and-answers/item/obesity-health-consequences-of-being-overweight#:~:text=Carrying%20extra%20fat%20leads%20to,premature%20death%20and%20substantial%20disability.))\n",
    "In this article I am going to show you the state of the so called obesity epidemic, and show you how I came to these inclusions. Hopefully you will learn something about data science, as well as the magnitude of the obesity epidemic. \n",
    "\n",
    "Foremost, some techno mumbo jumbo. You can download and run this jupyter notebook, or copy the python code into your own IDE (Like PyCharm or VS Code). You are going to want to have numpy, pandas, and matplotlib installed. \n",
    "\n",
    "First, we are going to need our dataset! The dataset we are using can be downloaded from [here.](https://catalog.data.gov/dataset/nutrition-physical-activity-and-obesity-behavioral-risk-factor-surveillance-system). Make sure to download the CSV version! \n",
    "One of the first things you should do is open your dataset in a spreadsheet. This lets you look at the data you are working with, and visual inspection you can see things that are hard to determine with code alone. Upon inspecting this data set (in Excel, Google Sheets, as a raw csv, etc.) you might notice there are lots of columns and lots of questions. We are going to need to subset our data in order to draw individual conclusions. \n",
    "\n",
    "Let's import our dataset into Python. Make sure the csv is inside whatever directory you are working in. If you download the [GitHub repo](https://github.com/aclarke500/obesity-analysis/tree/main/plots) it will be there.\n",
    "We will use Pandas to hold our dataframe, and we will print out the column names to ensure we have imported it correctly.\n",
    "\n"
   ]
  },
  {
   "cell_type": "code",
   "execution_count": 2,
   "id": "b8ab3340",
   "metadata": {},
   "outputs": [
    {
     "name": "stdout",
     "output_type": "stream",
     "text": [
      "Index(['YearStart', 'YearEnd', 'LocationAbbr', 'LocationDesc', 'Datasource',\n",
      "       'Class', 'Topic', 'Question', 'Data_Value_Unit', 'Data_Value_Type',\n",
      "       'Data_Value', 'Data_Value_Alt', 'Data_Value_Footnote_Symbol',\n",
      "       'Data_Value_Footnote', 'Low_Confidence_Limit', 'High_Confidence_Limit ',\n",
      "       'Sample_Size', 'Total', 'Age(years)', 'Education', 'Gender', 'Income',\n",
      "       'Race/Ethnicity', 'GeoLocation', 'ClassID', 'TopicID', 'QuestionID',\n",
      "       'DataValueTypeID', 'LocationID', 'StratificationCategory1',\n",
      "       'Stratification1', 'StratificationCategoryId1', 'StratificationID1'],\n",
      "      dtype='object')\n"
     ]
    }
   ],
   "source": [
    "import pandas as pd\n",
    "# import our csv\n",
    "master_df = pd.read_csv('Nutrition__Physical_Activity__and_Obesity_-_Behavioral_Risk_Factor_Surveillance_System.csv')\n",
    "print(master_df.columns) # print out data frame columns"
   ]
  },
  {
   "cell_type": "markdown",
   "id": "140f0540",
   "metadata": {},
   "source": [
    "After either inspecting the column names or looking at this data in a spreadsheet, we notice that this survey asks different questions. In order to find out what data we can extract, let's pull out all the questions they ask. We can do this by finding every **unique** value in the questions column. "
   ]
  },
  {
   "cell_type": "code",
   "execution_count": 3,
   "id": "4d495daa",
   "metadata": {},
   "outputs": [
    {
     "name": "stdout",
     "output_type": "stream",
     "text": [
      "Percent of adults who engage in no leisure-time physical activity\n",
      "Percent of adults aged 18 years and older who have obesity\n",
      "Percent of adults aged 18 years and older who have an overweight classification\n",
      "Percent of adults who achieve at least 300 minutes a week of moderate-intensity aerobic physical activity or 150 minutes a week of vigorous-intensity aerobic activity (or an equivalent combination)\n",
      "Percent of adults who achieve at least 150 minutes a week of moderate-intensity aerobic physical activity or 75 minutes a week of vigorous-intensity aerobic physical activity and engage in muscle-strengthening activities on 2 or more days a week\n",
      "Percent of adults who achieve at least 150 minutes a week of moderate-intensity aerobic physical activity or 75 minutes a week of vigorous-intensity aerobic activity (or an equivalent combination)\n",
      "Percent of adults who engage in muscle-strengthening activities on 2 or more days a week\n",
      "Percent of adults who report consuming fruit less than one time daily\n",
      "Percent of adults who report consuming vegetables less than one time daily\n"
     ]
    }
   ],
   "source": [
    "all_questions = master_df['Question'].unique().tolist() # get all unique entries as a list\n",
    "for question in all_questions: # for loop done to print values on own line\n",
    "    print(question)"
   ]
  },
  {
   "cell_type": "markdown",
   "id": "d7edccf7",
   "metadata": {},
   "source": [
    "Since this whole dataset contains multiple responses to questions, let's filter the data to include **only** the question of whether or not an adult is obese:"
   ]
  },
  {
   "cell_type": "code",
   "execution_count": 5,
   "id": "7395ef13",
   "metadata": {},
   "outputs": [
    {
     "name": "stdout",
     "output_type": "stream",
     "text": [
      "0        False\n",
      "1         True\n",
      "2         True\n",
      "3        False\n",
      "4        False\n",
      "         ...  \n",
      "88624    False\n",
      "88625    False\n",
      "88626    False\n",
      "88627    False\n",
      "88628    False\n",
      "Name: Question, Length: 88629, dtype: bool\n"
     ]
    }
   ],
   "source": [
    "obese_adults = master_df[master_df['Question'] == 'Percent of adults aged 18 years and older who have obesity']"
   ]
  },
  {
   "cell_type": "markdown",
   "id": "74716171",
   "metadata": {},
   "source": [
    "Let's break down that line of code, since there is a bit to unpack with it. The `obese_adults =` is just an assignment to the result of whatever is on the right side of the `=`. The expression wedged in between `master_df[]` is `master_df['Question'] == 'Percent of adults aged 18 years and older who have obesity'`. This returns what is known as a **Logical Array**, where every value is True or False based on our expression. We can verify this by printing out the values in the question column and our 'Logical Array'."
   ]
  },
  {
   "cell_type": "code",
   "execution_count": 11,
   "id": "c5af881e",
   "metadata": {},
   "outputs": [
    {
     "name": "stdout",
     "output_type": "stream",
     "text": [
      "Percent of adults who engage in no leisure-time physical activity\n",
      "Percent of adults aged 18 years and older who have obesity\n",
      "Percent of adults aged 18 years and older who have obesity\n",
      "Percent of adults aged 18 years and older who have an overweight classification\n",
      "Percent of adults who achieve at least 300 minutes a week of moderate-intensity aerobic physical activity or 150 minutes a week of vigorous-intensity aerobic activity (or an equivalent combination)\n",
      "0    False\n",
      "1     True\n",
      "2     True\n",
      "3    False\n",
      "4    False\n",
      "Name: Question, dtype: bool\n"
     ]
    }
   ],
   "source": [
    "first_5_questions = master_df['Question'].head(5) # get first 5 questions\n",
    "for q in first_5_questions: # print them out on own line\n",
    "    print(q)\n",
    "# print first 5 entries of our logical array\n",
    "print((master_df['Question'] == 'Percent of adults aged 18 years and older who have obesity').head(5)) "
   ]
  },
  {
   "cell_type": "markdown",
   "id": "b1d30320",
   "metadata": {},
   "source": [
    "We can see that the indices marked by **True** are the same ones that ask about obesity. So the value being assigned to `obese_adults` is the rows where our expression is true. In other words, we are only getting the rows that ask about obesity. Now we are going to build a new, **clean** data frame. In this data set, there are some empty values. This will cause issues later on, so we want to build a data frame with complete data. Further, we only need some of the columns from this data set. Let's create a new data frame with the year, location (state), and the percent_obese (the entrie in the data_value) column. We are going to check every row to make sure the entry is not empty, which in this data set, is denoted by an empty value and a '~' in the footnotes. "
   ]
  },
  {
   "cell_type": "code",
   "execution_count": 23,
   "id": "f335df31",
   "metadata": {},
   "outputs": [],
   "source": [
    "cleaned_obese_adults_dict = { # create dictionary to hold data\n",
    "    'year':[],\n",
    "    'location':[],\n",
    "    'percent_obese':[],\n",
    "}\n",
    "\n",
    "for index, row in obese_adults.iterrows(): # append data to dictionary\n",
    "\tif row['Data_Value_Footnote_Symbol'] != '~':\n",
    "\t\tcleaned_obese_adults_dict['year'].append(row['YearStart'])\n",
    "\t\tcleaned_obese_adults_dict['location'].append(row['LocationDesc'])\n",
    "\t\tcleaned_obese_adults_dict['percent_obese'].append(row['Data_Value'])\n",
    "\n",
    "cleaned_obese_adults_df = pd.DataFrame(cleaned_obese_adults_dict) # make data frame from dictionary"
   ]
  },
  {
   "cell_type": "markdown",
   "id": "de0a9828",
   "metadata": {},
   "source": [
    "Now, let's make some plots. Data visualization is important to convince people of your claims and to communicate effictively. Since there are a lot of locations included in this survey, we are going to want to do this in a **dynamic** way. What I mean by this is instead of writing code to plot each of the 50 states one by one, we will write a script that plots a state and gives return us some statistis. We will write another script that will loop and call the first script.\n",
    "## Extract, Plot, and Save Data\n"
   ]
  },
  {
   "cell_type": "code",
   "execution_count": 49,
   "id": "2990eb6a",
   "metadata": {},
   "outputs": [],
   "source": [
    "import matplotlib.pyplot as plt\n",
    "import numpy as np\n",
    "# passing in our data frame since local scope is best practice\n",
    "def plot_by_location(location, df, is_loop): \n",
    "    # logical array to get only this locations data\n",
    "    locations_df = df[df['location'] == location]\n",
    "    # get all years (will be x value for plot)\n",
    "    years = locations_df['year'].unique().tolist() \n",
    "    # sort the years. sort method modifies the original list so no need to reassign\n",
    "    years.sort()\n",
    "    # a list we will build up of all obese people currently for each year in the location\n",
    "    percent_obese = []\n",
    "    for year in years:\n",
    "        year_df = locations_df[locations_df['year'] == year] # another logical array!\n",
    "        # add all surveys results from the year and location to a list\n",
    "        percent_obese_list = year_df['percent_obese'].tolist()\n",
    "        # get the average of that list\n",
    "        avg = sum(percent_obese_list)/len(percent_obese_list)\n",
    "        # append that to our list\n",
    "        percent_obese.append(avg)\n",
    "    # now for some machine learning!\n",
    "    # make a numpy array so we can get a line of best fit\n",
    "    x_values = np.array(years)\n",
    "    y_values = np.array(percent_obese)\n",
    "    \n",
    "    # get a trendline for our data, remember y =mx + b? and they said math was useless...\n",
    "    slope, intercept = np.polyfit(x_values, y_values, 1) \n",
    "    line_of_best_fit = slope * x_values + intercept # make a list for our trendlines prediction at each year\n",
    "    # make a string we can display on our graphs\n",
    "    equation_string =  'y = ' + str(round(slope, 2)) + 'x + ' + str(round(intercept, 2))\n",
    "    \n",
    "    # plotting time\n",
    "    plt.scatter(years, percent_obese, c='red') # this plots each point against one another as a dot \n",
    "    # plot our predicted values from our trend line across as a smooth line\n",
    "    plt.plot(x_values, line_of_best_fit, label='line of best fit' +'\\n' + equation_string)\n",
    "    # add legend, labels, and title\n",
    "    plt.legend() # add a legend\n",
    "    plt.xlabel('Year')\n",
    "    plt.ylabel('Percentage of Obese Adults')\n",
    "    plt.title('Percentage of Obese Adults in ' + location + ' Over Time')\n",
    "    if not is_loop: # return if we are not looping over to write plots \n",
    "        return\n",
    "    plt.savefig(f'./plots/obesity_in_{location}.png') # save plot in a directory (folder) called plots\n",
    "    plt.clf() # clears the figure, important to do if plotting multiple things\n",
    "    \n",
    "    results = {\n",
    "        'current_obese': percent_obese[len(percent_obese)-1], # get last entry\n",
    "        'location': location,\n",
    "        'increase_per_year':slope\n",
    "    }\n",
    "    return results"
   ]
  },
  {
   "cell_type": "markdown",
   "id": "ce20eecf",
   "metadata": {},
   "source": [
    "That was a hefty function, but we can break down the logic into a few parts. First, we restructure our data. \n",
    "\n",
    "`   # logical array to get only this locations data\n",
    "    locations_df = df[df['location'] == location]\n",
    "    # get all years (will be x value for plot)\n",
    "    years = locations_df['year'].unique().tolist() \n",
    "    # sort the years. sort method modifies the original list so no need to reassign\n",
    "    years.sort()\n",
    "`\n",
    "The first three lines of code make a data frame with only the obese surveys from the specified location, and sort the years present.\n",
    "`\n",
    "\t#a list we will build up of all obese people currently for each year in the location\n",
    "    percent_obese = []\n",
    "    for year in years:\n",
    "        year_df = locations_df[locations_df['year'] == year] # another logical array!\n",
    "        # add all surveys results from the year and location to a list\n",
    "        percent_obese_list = year_df['percent_obese'].tolist()\n",
    "        # get the average of that list\n",
    "        avg = sum(percent_obese_list)/len(percent_obese_list)\n",
    "        # append that to our list\n",
    "        percent_obese.append(avg)`\n",
    "        \n",
    "Here, we take all the surveys and get the average from all the surveys of that year. We use that as a metric for the number of obese people in that location.\n",
    "\n",
    "`   # now for some machine learning!\n",
    "    # make a numpy array so we can get a line of best fit\n",
    "    x_values = np.array(years)\n",
    "    y_values = np.array(percent_obese)    \n",
    "    # get a trendline for our data, remember y =mx + b? and they said math was useless...\n",
    "    slope, intercept = np.polyfit(x_values, y_values, 1) \n",
    "    line_of_best_fit = slope * x + intercept # make a list for our trendlines prediction at each year\n",
    "    # make a string we can display on our graphs\n",
    "    equation_string =  'y = ' + str(round(slope, 2)) + 'x + ' + str(round(intercept), 2)\n",
    "    `\n",
    "\n",
    "In this chunk, we are getting a trendline that best represents the data. Although this may seem like grade 9 math, (and in some ways it is) this is technically machine learning at its simplest. You're creating a regression line that predicts the percentage of obese people in a state, given a **model**. Look at you, following along, doing ML and AI work! \n",
    "`   #plotting time\n",
    "    plt.scatter(years, percent_obese, c='red') # this plots each point against one another as a dot \n",
    "    # plot our predicted values from our trend line across as a smooth line\n",
    "    plt.plot(x_values, line_of_best_fit, label='line of best fit' +'\\n' + equation_string)\n",
    "    # add legend, labels, and title\n",
    "    plt.legend() # add a legend\n",
    "    plt.xlabel('Year')\n",
    "    plt.ylabel('Percentage of Obese Adults')\n",
    "    plt.title('Percentage of Obese Adults in ' + location + 'Over Time')\n",
    "    if not is_loop: # return if we are not looping over to write plots \n",
    "        return\n",
    "    plt.savefig(f'./plots/obesity_in_{location}.png') # save plot in a directory (folder) called plots\n",
    "    plt.clf() # clears the figure, important to do if plotting multiple things`\n",
    "   \n",
    "Here we are just plotting the data. We use a scatter plot for the actual entries, and a smooth line for our trendline. They are both just 2 lists of x and y values, but they way they are shown differs depending on the `.scatter` or `.plot` method. If we are looping over the locations, we want to save and clear the figure. If we are just trying to display one location, we don't need to bother (as we will do later).\n",
    "\n",
    "\n",
    "`results = {\n",
    "        'current_obese': percent_obese(len(percent_obese)-1), # get last entry\n",
    "        'location': location,\n",
    "        'increase_per_year':slope\n",
    "    }\n",
    "    return results`\n",
    "\n",
    "This last piece just makes a dictionary called `results` and binds some data to it. Then we return that so we can analyze the results.\n",
    "\n",
    "    "
   ]
  },
  {
   "cell_type": "markdown",
   "id": "ac7cb5b2",
   "metadata": {},
   "source": [
    "Now that we have that function written, let's try and plot some data using it! First, let's look at the national state of obesity over time."
   ]
  },
  {
   "cell_type": "code",
   "execution_count": 47,
   "id": "48bb9216",
   "metadata": {},
   "outputs": [
    {
     "data": {
      "image/png": "[encoded data removed]",
      "text/plain": [
       "<Figure size 432x288 with 1 Axes>"
      ]
     },
     "metadata": {
      "needs_background": "light"
     },
     "output_type": "display_data"
    }
   ],
   "source": [
    "plot_by_location('National', cleaned_obese_adults_df, False)"
   ]
  },
  {
   "cell_type": "markdown",
   "id": "6b84141c",
   "metadata": {},
   "source": [
    "We can see from this plot that obesity IS increasing over time, and follows our trendline pretty closely. If you are from the United States, or have a favourite state, try and use this method to see how your state is progressing with respect to obesity. \n",
    "Now, let's iterate over all the locations (most but not all are states) to see how this varies between locations."
   ]
  },
  {
   "cell_type": "code",
   "execution_count": 51,
   "id": "66642f51",
   "metadata": {},
   "outputs": [
    {
     "data": {
      "text/plain": [
       "<Figure size 432x288 with 0 Axes>"
      ]
     },
     "metadata": {},
     "output_type": "display_data"
    }
   ],
   "source": [
    "locations = cleaned_obese_adults_df['location'].unique().tolist() # get list of all locations\n",
    "\n",
    "results_dict = { # dictionary to hold our data\n",
    "    'location': [],\n",
    "    'percent_obese': [],\n",
    "    'increase_per_year': [],\n",
    "    'index': [] # this makes it easier to iterate over our dictionary later\n",
    "}\n",
    "i = 0 # counter for index\n",
    "for location in locations:\n",
    "    result = plot_by_location(location, cleaned_obese_adults_df, True)\n",
    "    results_dict['location'].append(location)\n",
    "    results_dict['percent_obese'].append(result['current_obese'])\n",
    "    results_dict['increase_per_year'].append(result['increase_per_year'])\n",
    "    results_dict['index'].append(i)\n",
    "    i+=1"
   ]
  },
  {
   "cell_type": "markdown",
   "id": "ca390616",
   "metadata": {},
   "source": [
    "Awesome, now we have all our plots. (Check your plots directory!!)\n",
    "But, which location has the most obese people in it (as a percent)? Let's use our results dictionary to figure that out! We will use a primitive searching algorithim to determine the maximum percentage a location holds."
   ]
  },
  {
   "cell_type": "code",
   "execution_count": 58,
   "id": "1726ec6f",
   "metadata": {},
   "outputs": [
    {
     "name": "stdout",
     "output_type": "stream",
     "text": [
      "The location with the highest number of obese people is Kentucky with 41% of people reported as obese.\n"
     ]
    }
   ],
   "source": [
    "max_obese = 0 # initial placeholder\n",
    "location = ''\n",
    "for i in results_dict['index']:\n",
    "    if results_dict['percent_obese'][i] > max_obese:\n",
    "        max_obese = results_dict['percent_obese'][i]\n",
    "        location = results_dict['location'][i]\n",
    "\n",
    "print(f'The location with the highest number of obese people is {location} with {str(round(max_obese))}% of people reported as obese.')"
   ]
  },
  {
   "cell_type": "code",
   "execution_count": null,
   "id": "8b987574",
   "metadata": {},
   "outputs": [],
   "source": []
  }
 ],
 "metadata": {
  "kernelspec": {
   "display_name": "Python 3 (ipykernel)",
   "language": "python",
   "name": "python3"
  },
  "language_info": {
   "codemirror_mode": {
    "name": "ipython",
    "version": 3
   },
   "file_extension": ".py",
   "mimetype": "text/x-python",
   "name": "python",
   "nbconvert_exporter": "python",
   "pygments_lexer": "ipython3",
   "version": "3.8.5"
  }
 },
 "nbformat": 4,
 "nbformat_minor": 5
}
