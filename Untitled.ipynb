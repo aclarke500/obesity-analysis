{
 "cells": [
  {
   "cell_type": "markdown",
   "id": "2a89f01a",
   "metadata": {},
   "source": [
    "# Understanding Obesity in the United States\n",
    "Although it is important to respect one another and treat people with kindness, it is understood in today's society that obesity is on the rise and that this is a problem. Obesity can increase ones risk of stroke, diabetes, and cancer. [WHO](https://www.who.int/news-room/questions-and-answers/item/obesity-health-consequences-of-being-overweight#:~:text=Carrying%20extra%20fat%20leads%20to,premature%20death%20and%20substantial%20disability.)\n",
    "In this article I am going to show you the state of the so called obesity epidemic, and show you how I came to these inclusions. Hopefully you will learn something about data science, as well as the magnitude of the obesity epidemic. \n",
    "\n",
    "Foremost, some techno mumbo jumbo. You can download and run this jupyter notebook, or copy the python code into your own IDE (Like PyCharm or VS Code). You are going to want to have numpy, pandas, and matplotlib installed. \n",
    "\n",
    "First, we are going to need our dataset! The dataset we are using can be downloaded from [here.](https://catalog.data.gov/dataset/nutrition-physical-activity-and-obesity-behavioral-risk-factor-surveillance-system). Make sure to download the CSV version! \n",
    "One of the first things you should do is open your dataset in a spreadsheet. This lets you look at the data you are working with, and visual inspection you can see things that are hard to determine with code alone. Upon inspecting this data set (in Excel, Google Sheets, as a raw csv, etc.) you might notice there are lots of columns and lots of questions. We are going to need to subset our data in order to draw individual conclusions. \n",
    "\n",
    "Let's import our dataset into Python. Make sure the csv is inside whatever directory you are working in. If you download the [GitHub repo](https://github.com/aclarke500/obesity-analysis/tree/main/plots) it will be there.\n",
    "We will use Pandas to hold our dataframe, and we will print out the column names to ensure we have imported it correctly.\n",
    "\n"
   ]
  },
  {
   "cell_type": "code",
   "execution_count": 8,
   "id": "b8ab3340",
   "metadata": {},
   "outputs": [
    {
     "name": "stdout",
     "output_type": "stream",
     "text": [
      "Index(['YearStart', 'YearEnd', 'LocationAbbr', 'LocationDesc', 'Datasource',\n",
      "       'Class', 'Topic', 'Question', 'Data_Value_Unit', 'Data_Value_Type',\n",
      "       'Data_Value', 'Data_Value_Alt', 'Data_Value_Footnote_Symbol',\n",
      "       'Data_Value_Footnote', 'Low_Confidence_Limit', 'High_Confidence_Limit ',\n",
      "       'Sample_Size', 'Total', 'Age(years)', 'Education', 'Gender', 'Income',\n",
      "       'Race/Ethnicity', 'GeoLocation', 'ClassID', 'TopicID', 'QuestionID',\n",
      "       'DataValueTypeID', 'LocationID', 'StratificationCategory1',\n",
      "       'Stratification1', 'StratificationCategoryId1', 'StratificationID1'],\n",
      "      dtype='object')\n"
     ]
    }
   ],
   "source": [
    "import pandas as pd\n",
    "# import our csv\n",
    "data = pd.read_csv('Nutrition__Physical_Activity__and_Obesity_-_Behavioral_Risk_Factor_Surveillance_System.csv')\n",
    "print(data.columns) # print out data frame columns"
   ]
  },
  {
   "cell_type": "markdown",
   "id": "140f0540",
   "metadata": {},
   "source": [
    "After either inspecting the column names or looking at this data in a spreadsheet, we notice that this survey asks different questions. In order to find out what data we can extract, let's pull out all the questions they ask. We can do this by finding every **unique** value in the questions column. "
   ]
  },
  {
   "cell_type": "code",
   "execution_count": 10,
   "id": "4d495daa",
   "metadata": {},
   "outputs": [
    {
     "name": "stdout",
     "output_type": "stream",
     "text": [
      "Percent of adults who engage in no leisure-time physical activity\n",
      "Percent of adults aged 18 years and older who have obesity\n",
      "Percent of adults aged 18 years and older who have an overweight classification\n",
      "Percent of adults who achieve at least 300 minutes a week of moderate-intensity aerobic physical activity or 150 minutes a week of vigorous-intensity aerobic activity (or an equivalent combination)\n",
      "Percent of adults who achieve at least 150 minutes a week of moderate-intensity aerobic physical activity or 75 minutes a week of vigorous-intensity aerobic physical activity and engage in muscle-strengthening activities on 2 or more days a week\n",
      "Percent of adults who achieve at least 150 minutes a week of moderate-intensity aerobic physical activity or 75 minutes a week of vigorous-intensity aerobic activity (or an equivalent combination)\n",
      "Percent of adults who engage in muscle-strengthening activities on 2 or more days a week\n",
      "Percent of adults who report consuming fruit less than one time daily\n",
      "Percent of adults who report consuming vegetables less than one time daily\n"
     ]
    }
   ],
   "source": [
    "all_questions = data['Question'].unique().tolist() # get all unique entries at a list\n",
    "for question in all_questions: # for loop done to print values on own line\n",
    "    print(question)"
   ]
  },
  {
   "cell_type": "markdown",
   "id": "d7edccf7",
   "metadata": {},
   "source": []
  }
 ],
 "metadata": {
  "kernelspec": {
   "display_name": "Python 3 (ipykernel)",
   "language": "python",
   "name": "python3"
  },
  "language_info": {
   "codemirror_mode": {
    "name": "ipython",
    "version": 3
   },
   "file_extension": ".py",
   "mimetype": "text/x-python",
   "name": "python",
   "nbconvert_exporter": "python",
   "pygments_lexer": "ipython3",
   "version": "3.8.5"
  }
 },
 "nbformat": 4,
 "nbformat_minor": 5
}
